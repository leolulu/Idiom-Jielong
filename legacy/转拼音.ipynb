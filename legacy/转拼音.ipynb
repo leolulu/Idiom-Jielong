{
 "cells": [
  {
   "cell_type": "code",
   "execution_count": 1,
   "metadata": {},
   "outputs": [],
   "source": [
    "import pandas as pd\n",
    "import numpy as np\n",
    "from xpinyin import Pinyin\n",
    "import re\n",
    "\n",
    "p=Pinyin()"
   ]
  },
  {
   "source": [
    "df = pd.read_excel(r\"成语.xlsx\")"
   ],
   "cell_type": "code",
   "metadata": {},
   "execution_count": 2,
   "outputs": []
  },
  {
   "cell_type": "code",
   "execution_count": 3,
   "metadata": {},
   "outputs": [],
   "source": [
    "df['拼音'] = df['成语'].map(lambda x:p.get_pinyin(x,tone_marks='numbers'))"
   ]
  },
  {
   "cell_type": "code",
   "execution_count": 4,
   "metadata": {},
   "outputs": [],
   "source": [
    "df2 = df['拼音'].str.split('-',expand=True)"
   ]
  },
  {
   "cell_type": "code",
   "execution_count": 5,
   "metadata": {},
   "outputs": [],
   "source": [
    "df[['pinyin1','tone1']] =   df2[0].str.extract(r\"([a-z]+)(\\d+)\")\n",
    "df[['pinyin2','tone2']] =   df2[1].str.extract(r\"([a-z]+)(\\d+)\")\n",
    "df[['pinyin3','tone3']] =   df2[2].str.extract(r\"([a-z]+)(\\d+)\")\n",
    "df[['pinyin4','tone4']] =   df2[3].str.extract(r\"([a-z]+)(\\d+)\")"
   ]
  },
  {
   "cell_type": "code",
   "execution_count": 6,
   "metadata": {},
   "outputs": [],
   "source": [
    "df.to_excel('成语结果.xlsx',index=False)"
   ]
  },
  {
   "cell_type": "code",
   "execution_count": null,
   "metadata": {},
   "outputs": [],
   "source": []
  }
 ],
 "metadata": {
  "kernelspec": {
   "display_name": "Python 3",
   "language": "python",
   "name": "python3"
  },
  "language_info": {
   "codemirror_mode": {
    "name": "ipython",
    "version": 3
   },
   "file_extension": ".py",
   "mimetype": "text/x-python",
   "name": "python",
   "nbconvert_exporter": "python",
   "pygments_lexer": "ipython3",
   "version": "3.8.3-final"
  }
 },
 "nbformat": 4,
 "nbformat_minor": 2
}